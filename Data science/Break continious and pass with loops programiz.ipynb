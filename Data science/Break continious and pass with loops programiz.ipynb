{
 "cells": [
  {
   "cell_type": "code",
   "execution_count": 3,
   "id": "d8f74c74",
   "metadata": {},
   "outputs": [
    {
     "name": "stdout",
     "output_type": "stream",
     "text": [
      "0\n",
      "1\n",
      "2\n"
     ]
    }
   ],
   "source": [
    "for i in range(0,5):\n",
    "    if i ==3:\n",
    "        break\n",
    "    print(i)  "
   ]
  },
  {
   "cell_type": "code",
   "execution_count": null,
   "id": "71036492",
   "metadata": {},
   "outputs": [],
   "source": [
    "# BREAK STATEMENT IS USED ALMOST IN DECSION MAKING STATMENTS\n"
   ]
  },
  {
   "cell_type": "code",
   "execution_count": 6,
   "id": "6b196b7a",
   "metadata": {},
   "outputs": [
    {
     "name": "stdout",
     "output_type": "stream",
     "text": [
      "6 * 1 = 6\n",
      "6 * 2 = 12\n",
      "6 * 3 = 18\n",
      "6 * 4 = 24\n",
      "6 * 5 = 30\n"
     ]
    }
   ],
   "source": [
    "i = 1\n",
    "while i <= 10:\n",
    "        print('6 *', (i), '=', 6 * i)\n",
    "        \n",
    "        if i >=5:\n",
    "            break\n",
    "        i = i+1    \n"
   ]
  },
  {
   "cell_type": "code",
   "execution_count": 76,
   "id": "7e8a631e",
   "metadata": {},
   "outputs": [
    {
     "name": "stdout",
     "output_type": "stream",
     "text": [
      "enter a number: 69\n",
      "You entered:  69.0\n",
      "enter a number: -7\n"
     ]
    }
   ],
   "source": [
    "while True:\n",
    "    number = float(input(\"enter a number: \"))\n",
    "    if number  < 0:\n",
    "        break\n",
    "    print(\"You entered: \", number)        "
   ]
  },
  {
   "cell_type": "markdown",
   "id": "53ec9ab8",
   "metadata": {},
   "source": [
    "we have above example if it is possitive then continue is negative break. it will shows the same negative number without float.\n"
   ]
  },
  {
   "cell_type": "code",
   "execution_count": 67,
   "id": "c920cb4e",
   "metadata": {},
   "outputs": [
    {
     "name": "stdout",
     "output_type": "stream",
     "text": [
      "enter  number: 6\n",
      "6 x 10 = 60\n",
      "6 x 9 = 54\n",
      "6 x 8 = 48\n",
      "6 x 7 = 42\n",
      "6 x 6 = 36\n",
      "6 x 5 = 30\n",
      "6 x 4 = 24\n",
      "6 x 3 = 18\n",
      "6 x 2 = 12\n",
      "6 x 1 = 6\n",
      "6 x 0 = 0\n"
     ]
    }
   ],
   "source": [
    "number = int(input(\"enter  number: \"))\n",
    "\n",
    "count = 10\n",
    "\n",
    "while count <= 10:\n",
    "\n",
    "    prodcut = number*count\n",
    "    print(number, \"x\", count, \"=\", prodcut)\n",
    "    \n",
    "    if count==0:\n",
    "        break\n",
    "    count = count-1\n",
    "    \n",
    "    \n",
    "\n"
   ]
  },
  {
   "cell_type": "markdown",
   "id": "fa162881",
   "metadata": {},
   "source": [
    "# continue statement \n",
    "\n",
    "use to skip the current iteration"
   ]
  },
  {
   "cell_type": "code",
   "execution_count": 69,
   "id": "d985e08b",
   "metadata": {},
   "outputs": [
    {
     "name": "stdout",
     "output_type": "stream",
     "text": [
      "0\n",
      "1\n",
      "2\n",
      "4\n"
     ]
    }
   ],
   "source": [
    "i = 5\n",
    "for i in range(5):\n",
    "    if i==3:\n",
    "        continue\n",
    "    print(i)    \n",
    "        \n",
    "        \n",
    "#we use this with for loop\n",
    "        \n",
    "    "
   ]
  },
  {
   "cell_type": "markdown",
   "id": "1efabdf1",
   "metadata": {},
   "source": [
    "3 will be cut but 4 will be printed by using continue method"
   ]
  },
  {
   "cell_type": "code",
   "execution_count": 71,
   "id": "6790ca63",
   "metadata": {},
   "outputs": [
    {
     "name": "stdout",
     "output_type": "stream",
     "text": [
      "1\n",
      "3\n",
      "5\n",
      "7\n",
      "9\n"
     ]
    }
   ],
   "source": [
    "num = 0 \n",
    "\n",
    "while num < 10:\n",
    "    num = num + 1      # other way to write thi num+=1\n",
    "    if(num % 2) == 0:\n",
    "        continue\n",
    "    print(num)    \n",
    "    "
   ]
  },
  {
   "cell_type": "markdown",
   "id": "5a4d7b52",
   "metadata": {},
   "source": [
    "we use while loop to findout the odd number"
   ]
  },
  {
   "cell_type": "code",
   "execution_count": 82,
   "id": "a5b2b690",
   "metadata": {},
   "outputs": [
    {
     "name": "stdout",
     "output_type": "stream",
     "text": [
      "enter a number: 6\n",
      "6.0\n",
      "enter a number: 8\n",
      "8.0\n",
      "enter a number: 7\n",
      "7.0\n",
      "enter a number: 8\n",
      "8.0\n",
      "enter a number: 8\n",
      "8.0\n"
     ]
    }
   ],
   "source": [
    "for i in range(5):\n",
    "    number = float(input(\"enter a number: \"))\n",
    "    print(number)"
   ]
  },
  {
   "cell_type": "markdown",
   "id": "152d37a9",
   "metadata": {},
   "source": [
    "It will take only 5 number and than stopped , what if I want only possitive number and skipped the neagtive number,for that we will use continue statement to keep continue this code'"
   ]
  },
  {
   "cell_type": "code",
   "execution_count": 83,
   "id": "a28dd756",
   "metadata": {},
   "outputs": [
    {
     "name": "stdout",
     "output_type": "stream",
     "text": [
      "enter a number: -2\n",
      "enter a number: 24\n",
      "24.0\n",
      "enter a number: 2\n",
      "2.0\n",
      "enter a number: -9\n",
      "enter a number: 6\n",
      "6.0\n"
     ]
    }
   ],
   "source": [
    "for i in range (5):\n",
    "    number = float(input(\"enter a number: \"))\n",
    "    if number <0:\n",
    "        continue\n",
    "    print(number)    "
   ]
  },
  {
   "cell_type": "markdown",
   "id": "ab23f812",
   "metadata": {},
   "source": [
    "-9 -2 shows the same and other than this have in float values\n"
   ]
  },
  {
   "cell_type": "markdown",
   "id": "1868141b",
   "metadata": {},
   "source": [
    "# pass statements \n",
    "it is a null statement which used as a placeholder for future code\n",
    "comments with # can cause error but pass will not"
   ]
  },
  {
   "cell_type": "code",
   "execution_count": 85,
   "id": "ee984570",
   "metadata": {},
   "outputs": [],
   "source": [
    "number = 5.5\n",
    "\n",
    "if number > 0.0:\n",
    "    pass"
   ]
  },
  {
   "cell_type": "code",
   "execution_count": null,
   "id": "f3c1120e",
   "metadata": {},
   "outputs": [],
   "source": []
  }
 ],
 "metadata": {
  "kernelspec": {
   "display_name": "Python 3 (ipykernel)",
   "language": "python",
   "name": "python3"
  },
  "language_info": {
   "codemirror_mode": {
    "name": "ipython",
    "version": 3
   },
   "file_extension": ".py",
   "mimetype": "text/x-python",
   "name": "python",
   "nbconvert_exporter": "python",
   "pygments_lexer": "ipython3",
   "version": "3.9.13"
  }
 },
 "nbformat": 4,
 "nbformat_minor": 5
}
